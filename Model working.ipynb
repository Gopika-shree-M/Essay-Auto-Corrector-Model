{
 "cells": [
  {
   "cell_type": "code",
   "execution_count": 5,
   "id": "53002ebf-4141-4cf7-a4a1-cf0eb2eebc20",
   "metadata": {},
   "outputs": [
    {
     "name": "stdout",
     "output_type": "stream",
     "text": [
      "Collecting nltk\n",
      "  Using cached nltk-3.9.1-py3-none-any.whl.metadata (2.9 kB)\n",
      "Collecting click (from nltk)\n",
      "  Downloading click-8.1.8-py3-none-any.whl.metadata (2.3 kB)\n",
      "Requirement already satisfied: joblib in c:\\users\\gopik\\anaconda3\\envs\\lumina_env\\lib\\site-packages (from nltk) (1.4.2)\n",
      "Requirement already satisfied: regex>=2021.8.3 in c:\\users\\gopik\\anaconda3\\envs\\lumina_env\\lib\\site-packages (from nltk) (2024.11.6)\n",
      "Requirement already satisfied: tqdm in c:\\users\\gopik\\anaconda3\\envs\\lumina_env\\lib\\site-packages (from nltk) (4.67.1)\n",
      "Requirement already satisfied: colorama in c:\\users\\gopik\\anaconda3\\envs\\lumina_env\\lib\\site-packages (from click->nltk) (0.4.6)\n",
      "Using cached nltk-3.9.1-py3-none-any.whl (1.5 MB)\n",
      "Downloading click-8.1.8-py3-none-any.whl (98 kB)\n",
      "Installing collected packages: click, nltk\n",
      "Successfully installed click-8.1.8 nltk-3.9.1\n"
     ]
    }
   ],
   "source": [
    "!pip install nltk"
   ]
  },
  {
   "cell_type": "code",
   "execution_count": 1,
   "id": "98373647-98b7-4cd4-8c7b-f760e0a7a29c",
   "metadata": {},
   "outputs": [],
   "source": [
    "import re\n",
    "\n",
    "def post_process(text):\n",
    "    text = re.sub(r\"\\s+\", \" \", text)\n",
    "    text = \". \".join([sentence.strip().capitalize() for sentence in text.split(\".\")])  # Capitalize sentences\n",
    "    return text.strip()"
   ]
  },
  {
   "cell_type": "code",
   "execution_count": 2,
   "id": "004b9c8e-e994-4497-a04d-7b2b409676cf",
   "metadata": {},
   "outputs": [
    {
     "name": "stderr",
     "output_type": "stream",
     "text": [
      "[nltk_data] Downloading package punkt_tab to\n",
      "[nltk_data]     C:\\Users\\gopik\\AppData\\Roaming\\nltk_data...\n",
      "[nltk_data]   Package punkt_tab is already up-to-date!\n"
     ]
    },
    {
     "data": {
      "text/plain": [
       "True"
      ]
     },
     "execution_count": 2,
     "metadata": {},
     "output_type": "execute_result"
    }
   ],
   "source": [
    "import nltk\n",
    "nltk.download('punkt_tab')"
   ]
  },
  {
   "cell_type": "code",
   "execution_count": 3,
   "id": "e6caf87a-d4e9-4c4e-aa6c-0140d3ad10cd",
   "metadata": {},
   "outputs": [],
   "source": [
    "from transformers import AutoModelForSeq2SeqLM, AutoTokenizer\n",
    "model = AutoModelForSeq2SeqLM.from_pretrained(\"saved_model/t5_base_emotion_model\")\n",
    "tokenizer = AutoTokenizer.from_pretrained(\"saved_model/t5_base_emotion_model\")"
   ]
  },
  {
   "cell_type": "code",
   "execution_count": 76,
   "id": "8cb45518-a651-4c50-8ac8-0d4ac8c2dd98",
   "metadata": {},
   "outputs": [],
   "source": [
    "from nltk.tokenize import sent_tokenize\n",
    "\n",
    "def split_into_chunks(text):\n",
    "    sentences = sent_tokenize(text)\n",
    "    chunks = []\n",
    "    for sentence in sentences:\n",
    "        chunks.append(sentence.strip())\n",
    "    return sentences"
   ]
  },
  {
   "cell_type": "code",
   "execution_count": 77,
   "id": "c1d82e0e-cde3-42be-86eb-b9ea01d47d84",
   "metadata": {},
   "outputs": [],
   "source": [
    "def correct_grammar(text, model, tokenizer):\n",
    "    chunks = split_into_chunks(text)\n",
    "    corrected_chunks = []\n",
    "    for chunk in chunks:\n",
    "        max_length = len(chunk)\n",
    "        inputs = tokenizer(f\"grammar: {chunk}\", return_tensors=\"pt\", padding=\"max_length\", max_length=max_length)\n",
    "        outputs = model.generate(**inputs, max_length = max_length)\n",
    "        corrected_text = tokenizer.decode(outputs[0], skip_special_tokens=True)\n",
    "        corrected_chunks.append(corrected_text)\n",
    "    return \" \".join(corrected_chunks)"
   ]
  },
  {
   "cell_type": "code",
   "execution_count": 78,
   "id": "abc8f2d7-d3dc-4c74-bc62-b34d035a3c11",
   "metadata": {},
   "outputs": [
    {
     "name": "stdout",
     "output_type": "stream",
     "text": [
      "Corrected Paragraph:\n",
      "There are so many things wrong in this world, that we dont even know where to start from.\n"
     ]
    }
   ],
   "source": [
    "large_paragraph = \"Their is so many thing wrong in this world, that we dont even no where to start from\"\n",
    "\n",
    "corrected_paragraph = correct_grammar(large_paragraph, model, tokenizer)\n",
    "final_output = post_process(corrected_paragraph)\n",
    "\n",
    "print(\"Corrected Paragraph:\")\n",
    "print(final_output)"
   ]
  },
  {
   "cell_type": "code",
   "execution_count": 79,
   "id": "1b87828b-c03c-4957-9b89-50e723929a77",
   "metadata": {},
   "outputs": [
    {
     "name": "stdout",
     "output_type": "stream",
     "text": [
      "Corrected Paragraph:\n",
      "It is amazing how many people don't relize the importance of good grammar and spelling. For insight, alot of folks think that its okay to write like they speak, but thats not always true. When you write something, whether its an email, a report, or even a social media post, you should take the time to proofread it. And you might come across as unprofessional or careless. Take this sentence for example: \"Their going to the store, but their not sure what they are looking for.\" Can you spot the mistakes? There are three errors in just one sentence! First, \"they\" should be \"they're,\" which is a contraction of \"they are.\" Second, \"too\" should be \"to,\" and third, \"they're\" should be \"they're\" again. It's easy to see how these mistakes can happen when you're in a rush. Another common issue is the misuse of homophones. People often confuse words like \"your\" and \"you're,\" \"there,\" \"their\" and \"they're,\" or \"its\" and \"it's\" This can lead to confusion and miscommunication. For example, \"Your going too love there new product\" is completely wrong. It should be \"You're going to love their new product.\" Punctuation is another area where a lot of people struggle. Some folks forget to use commas, while others overuse them. For example, \"I went to the store and bought apples, oranges, bananas and grapes\" is missing commas between the items in the list. It should be \"I went to the store and bought apples, oranges, bananas, and grapes.\" On the other hand, some people put commas everywhere, even when they're not needed. For example, \"I went to the store, and, bought some apples,\" has an unnecessary comma after \"and\". Capitalization is also a problem for some writers. They might forget to capitalize proper nouns or the first word of a sentence. For example, \"i live in new york city\" should be \"I live in new york city\" Similar, \"the president of the united states\" should be \"The President of the United States.\" The verb tense is another tricky area. People often mix past, present, and future tenses . For example, \"Yesterday i go to the store and buys some milk\" is incorrect. It should be \"Yesterday I went to the store and bought some milk.\" Another example is \"She was cooking dinner when the phone rings,\" which should be \"She was cooking dinner when the phone rings.\" Enfin, some people have trouble with subject-verb agreement. For example, \"The list of items are on the table\" is incorrect because \"list\" is singular, so the verb should be \"is\". The correct sentence is \"The list of items is on the table.\" In conclusion, its important to pay attention too to grammar, spelling, and punctuation if you want to communicate effectively. While its true that not every mistake will be noticed by everyone, its still worth taking the time to write clearly and correctly. After all, you never know who might be reading your work, and first impressions matter!\n"
     ]
    }
   ],
   "source": [
    "large_paragraph = \"\"\"\n",
    "Its amazin how many peple dont relize the importance of good grammer and speling. For instence, alot of folks thinks that its okay to write like they speak, but thats not alwayz true. When you writes something, wether its an email, a report, or even a social media post, you should take the time too proofread it. Otherwise, you might comes across as unprofessional or careless. Take this sentance for example: \"Their going too the store, but their not sure what their looking for.\" Can you spot the mistakes? Their are three errors in just one sentence! First, \"their\" should be \"they're,\" which is a contraction of \"they are.\" Second, \"too\" should be \"to,\" and third, \"their\" should be \"they're\" again. Its easy too see how these mistake can happen when you'r in a rush. Another common issue is the misuse of homophones. People often confuse words like \"your\" and \"you're,\" \"there,\" \"their,\" and \"they're,\" or \"its\" and \"it's.\" This can lead too confusion and miscomunication. For example, \"Your going too love there new product\" is completly wrong. It should be \"You're going to love their new product.\" Punctuation is another area where alot of people struggle. Some folks forget too use commas, while others overuse them. For example, \"I went to the store and bought apples oranges bananas and grapes\" is missing commas between the items in the list. It should be \"I went to the store and bought apples, oranges, bananas, and grapes.\" On the other hand, some people put commas everywhere, even when they're not needed. For instance, \"I went to the store, and, bought some apples,\" has an unnecessary comma after \"and.\" Capitalization is also a problem for some writers. They might forget too capitalize proper nouns or the first word of a sentence. For example, \"i live in new york city\" should be \"I live in New York City.\" Similarly, \"the president of the united states\" should be \"The President of the United States.\" Verb tense is another tricky area. People often mix up past, present, and future tenses. For example, \"Yesterday i go to the store and buys some milk\" is incorrect. It should be \"Yesterday I went to the store and bought some milk.\" Another example is \"She was cooking dinner when the phone rings,\" which should be \"She was cooking dinner when the phone rang.\" Lastly, some people have trouble with subject-verb agreement. For example, \"The list of items are on the table\" is incorrect because \"list\" is singular, so the verb should be \"is.\" The correct sentence is \"The list of items is on the table.\" In conclusion, its important too pay attention too grammar, spelling, and punctuation if you want too communicate effectively. While its true that not every mistake will be noticed by everyone, its still worth taking the time too write clearly and correctly. After all, you never know who might be reading your work, and first impressions matter!\n",
    "\"\"\"\n",
    "\n",
    "corrected_paragraph = correct_grammar(large_paragraph, model, tokenizer)\n",
    "\n",
    "print(\"Corrected Paragraph:\")\n",
    "print(corrected_paragraph)"
   ]
  },
  {
   "cell_type": "code",
   "execution_count": null,
   "id": "77996dab-3170-4f9f-b649-09c5e5bc13a1",
   "metadata": {},
   "outputs": [],
   "source": []
  }
 ],
 "metadata": {
  "kernelspec": {
   "display_name": "Python (lumina_env)",
   "language": "python",
   "name": "lumina_env"
  },
  "language_info": {
   "codemirror_mode": {
    "name": "ipython",
    "version": 3
   },
   "file_extension": ".py",
   "mimetype": "text/x-python",
   "name": "python",
   "nbconvert_exporter": "python",
   "pygments_lexer": "ipython3",
   "version": "3.9.21"
  }
 },
 "nbformat": 4,
 "nbformat_minor": 5
}
