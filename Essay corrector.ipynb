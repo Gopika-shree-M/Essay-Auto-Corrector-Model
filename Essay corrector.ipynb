{
 "cells": [
  {
   "cell_type": "code",
   "execution_count": 6,
   "id": "8e78d34c-eb12-4713-b4a3-018b25aafe30",
   "metadata": {},
   "outputs": [],
   "source": [
    "from datasets import load_dataset\n",
    "\n",
    "dataset = load_dataset(\"jhu-clsp/jfleg\")"
   ]
  },
  {
   "cell_type": "code",
   "execution_count": 7,
   "id": "b0c0047b-35ad-41f0-a947-4000876bc63e",
   "metadata": {},
   "outputs": [],
   "source": [
    "from datasets import concatenate_datasets"
   ]
  },
  {
   "cell_type": "code",
   "execution_count": 8,
   "id": "e446bce0-a161-4016-b4b4-6d4b0cad0359",
   "metadata": {},
   "outputs": [
    {
     "name": "stdout",
     "output_type": "stream",
     "text": [
      "DatasetDict({\n",
      "    validation: Dataset({\n",
      "        features: ['sentence', 'corrections'],\n",
      "        num_rows: 755\n",
      "    })\n",
      "    test: Dataset({\n",
      "        features: ['sentence', 'corrections'],\n",
      "        num_rows: 748\n",
      "    })\n",
      "})\n"
     ]
    }
   ],
   "source": [
    "print(dataset)"
   ]
  },
  {
   "cell_type": "code",
   "execution_count": 9,
   "id": "5702d298-3458-48cf-8fc1-d8bd081932e6",
   "metadata": {},
   "outputs": [],
   "source": [
    "combined_dataset = dataset[\"validation\"].train_test_split(test_size=0.5)\n",
    "\n",
    "train_dataset = concatenate_datasets([combined_dataset[\"train\"], dataset['test']])\n",
    "test_dataset = combined_dataset[\"test\"]"
   ]
  },
  {
   "cell_type": "code",
   "execution_count": 10,
   "id": "d7d36232-731a-4fa3-b346-c6bf6ecd44e6",
   "metadata": {},
   "outputs": [
    {
     "name": "stdout",
     "output_type": "stream",
     "text": [
      "Dataset({\n",
      "    features: ['sentence', 'corrections'],\n",
      "    num_rows: 1125\n",
      "})\n"
     ]
    }
   ],
   "source": [
    "print(train_dataset)"
   ]
  },
  {
   "cell_type": "code",
   "execution_count": 11,
   "id": "b3dfc236-dce2-47a2-93e6-8093bbfa8a4f",
   "metadata": {},
   "outputs": [
    {
     "name": "stdout",
     "output_type": "stream",
     "text": [
      "Dataset({\n",
      "    features: ['sentence', 'corrections'],\n",
      "    num_rows: 378\n",
      "})\n"
     ]
    }
   ],
   "source": [
    "print(test_dataset)"
   ]
  },
  {
   "cell_type": "code",
   "execution_count": 12,
   "id": "925b368d-0642-4e69-be80-ec3f40ab90fe",
   "metadata": {},
   "outputs": [
    {
     "data": {
      "application/vnd.jupyter.widget-view+json": {
       "model_id": "fac8b1127b5c47f09f840309fa41e10b",
       "version_major": 2,
       "version_minor": 0
      },
      "text/plain": [
       "Map:   0%|          | 0/1125 [00:00<?, ? examples/s]"
      ]
     },
     "metadata": {},
     "output_type": "display_data"
    },
    {
     "data": {
      "application/vnd.jupyter.widget-view+json": {
       "model_id": "9e3891e9b00349aa82ae00d68a350a9c",
       "version_major": 2,
       "version_minor": 0
      },
      "text/plain": [
       "Map:   0%|          | 0/378 [00:00<?, ? examples/s]"
      ]
     },
     "metadata": {},
     "output_type": "display_data"
    }
   ],
   "source": [
    "def preprocess_data(example):\n",
    "    inputs = \"grammar: \" + example[\"sentence\"] \n",
    "    targets = example[\"corrections\"][0] \n",
    "    return {\"input_text\": inputs, \"target_text\": targets}\n",
    "\n",
    "train_dataset = train_dataset.map(preprocess_data)\n",
    "test_dataset = test_dataset.map(preprocess_data)"
   ]
  },
  {
   "cell_type": "code",
   "execution_count": 40,
   "id": "8c09d047-4a7d-47b1-96c3-cff892fd456f",
   "metadata": {},
   "outputs": [
    {
     "data": {
      "application/vnd.jupyter.widget-view+json": {
       "model_id": "9003f4467be946d29e4a689997a892a3",
       "version_major": 2,
       "version_minor": 0
      },
      "text/plain": [
       "config.json:   0%|          | 0.00/1.21k [00:00<?, ?B/s]"
      ]
     },
     "metadata": {},
     "output_type": "display_data"
    },
    {
     "data": {
      "application/vnd.jupyter.widget-view+json": {
       "model_id": "d5aefd88ca464b54b6d1cc2f492bca61",
       "version_major": 2,
       "version_minor": 0
      },
      "text/plain": [
       "spiece.model:   0%|          | 0.00/792k [00:00<?, ?B/s]"
      ]
     },
     "metadata": {},
     "output_type": "display_data"
    },
    {
     "data": {
      "application/vnd.jupyter.widget-view+json": {
       "model_id": "f2925cef20bf40e7921b2a136506f78d",
       "version_major": 2,
       "version_minor": 0
      },
      "text/plain": [
       "tokenizer.json:   0%|          | 0.00/1.39M [00:00<?, ?B/s]"
      ]
     },
     "metadata": {},
     "output_type": "display_data"
    },
    {
     "data": {
      "application/vnd.jupyter.widget-view+json": {
       "model_id": "28b840ca0b5f4f92a27f1a4393dc5384",
       "version_major": 2,
       "version_minor": 0
      },
      "text/plain": [
       "Map:   0%|          | 0/1125 [00:00<?, ? examples/s]"
      ]
     },
     "metadata": {},
     "output_type": "display_data"
    },
    {
     "data": {
      "application/vnd.jupyter.widget-view+json": {
       "model_id": "629b9c78c4934588a0fed5bfb20f07f6",
       "version_major": 2,
       "version_minor": 0
      },
      "text/plain": [
       "Map:   0%|          | 0/378 [00:00<?, ? examples/s]"
      ]
     },
     "metadata": {},
     "output_type": "display_data"
    }
   ],
   "source": [
    "from transformers import AutoTokenizer\n",
    "\n",
    "tokenizer = AutoTokenizer.from_pretrained(\"t5-base\")\n",
    "\n",
    "def tokenize_data(example):\n",
    "    inputs = tokenizer(example[\"input_text\"], truncation=True, padding=\"max_length\", max_length=512)\n",
    "    targets = tokenizer(example[\"target_text\"], truncation=True, padding=\"max_length\", max_length=512)\n",
    "    return {\n",
    "        \"input_ids\": inputs[\"input_ids\"],\n",
    "        \"attention_mask\": inputs[\"attention_mask\"],\n",
    "        \"labels\": targets[\"input_ids\"]  \n",
    "    }\n",
    "\n",
    "tokenized_train = train_dataset.map(tokenize_data)\n",
    "tokenized_test = test_dataset.map(tokenize_data)"
   ]
  },
  {
   "cell_type": "code",
   "execution_count": 42,
   "id": "4be855e9-3491-4ce3-8155-b087050a9963",
   "metadata": {},
   "outputs": [
    {
     "data": {
      "application/vnd.jupyter.widget-view+json": {
       "model_id": "69ed357efaea47188b28b6f5109b620c",
       "version_major": 2,
       "version_minor": 0
      },
      "text/plain": [
       "model.safetensors:   0%|          | 0.00/892M [00:00<?, ?B/s]"
      ]
     },
     "metadata": {},
     "output_type": "display_data"
    },
    {
     "data": {
      "application/vnd.jupyter.widget-view+json": {
       "model_id": "b3340e3160c9448d874117bb66156a65",
       "version_major": 2,
       "version_minor": 0
      },
      "text/plain": [
       "generation_config.json:   0%|          | 0.00/147 [00:00<?, ?B/s]"
      ]
     },
     "metadata": {},
     "output_type": "display_data"
    }
   ],
   "source": [
    "from transformers import AutoModelForSeq2SeqLM, Trainer, TrainingArguments\n",
    "\n",
    "model = AutoModelForSeq2SeqLM.from_pretrained(\"t5-base\")"
   ]
  },
  {
   "cell_type": "code",
   "execution_count": 43,
   "id": "ea8d1b21-6591-42c5-bf26-f1512a04d080",
   "metadata": {},
   "outputs": [],
   "source": [
    "training_args = TrainingArguments(\n",
    "    output_dir=\"./t5-grammar-correction\",\n",
    "    eval_strategy=\"epoch\",\n",
    "    save_strategy=\"epoch\",\n",
    "    learning_rate=5e-5,\n",
    "    per_device_train_batch_size=4,\n",
    "    per_device_eval_batch_size=4,\n",
    "    num_train_epochs=3,\n",
    "    weight_decay=0.01,\n",
    "    save_steps=500,\n",
    "    save_total_limit=2,\n",
    "    logging_dir=\"./logs\",\n",
    "    logging_steps=10,\n",
    ")"
   ]
  },
  {
   "cell_type": "code",
   "execution_count": 44,
   "id": "e0b522bd-c37c-4c91-975a-04d26011d1dd",
   "metadata": {},
   "outputs": [
    {
     "data": {
      "text/html": [
       "\n",
       "    <div>\n",
       "      \n",
       "      <progress value='846' max='846' style='width:300px; height:20px; vertical-align: middle;'></progress>\n",
       "      [846/846 1:47:27, Epoch 3/3]\n",
       "    </div>\n",
       "    <table border=\"1\" class=\"dataframe\">\n",
       "  <thead>\n",
       " <tr style=\"text-align: left;\">\n",
       "      <th>Epoch</th>\n",
       "      <th>Training Loss</th>\n",
       "      <th>Validation Loss</th>\n",
       "    </tr>\n",
       "  </thead>\n",
       "  <tbody>\n",
       "    <tr>\n",
       "      <td>1</td>\n",
       "      <td>0.037900</td>\n",
       "      <td>0.030760</td>\n",
       "    </tr>\n",
       "    <tr>\n",
       "      <td>2</td>\n",
       "      <td>0.033400</td>\n",
       "      <td>0.028743</td>\n",
       "    </tr>\n",
       "    <tr>\n",
       "      <td>3</td>\n",
       "      <td>0.023000</td>\n",
       "      <td>0.028721</td>\n",
       "    </tr>\n",
       "  </tbody>\n",
       "</table><p>"
      ],
      "text/plain": [
       "<IPython.core.display.HTML object>"
      ]
     },
     "metadata": {},
     "output_type": "display_data"
    },
    {
     "data": {
      "text/plain": [
       "TrainOutput(global_step=846, training_loss=0.22032286635386464, metrics={'train_runtime': 6456.0127, 'train_samples_per_second': 0.523, 'train_steps_per_second': 0.131, 'total_flos': 2055232880640000.0, 'train_loss': 0.22032286635386464, 'epoch': 3.0})"
      ]
     },
     "execution_count": 44,
     "metadata": {},
     "output_type": "execute_result"
    }
   ],
   "source": [
    "trainer = Trainer(\n",
    "    model=model,\n",
    "    args=training_args,\n",
    "    train_dataset=tokenized_train,\n",
    "    eval_dataset=tokenized_test,\n",
    ")\n",
    "\n",
    "trainer.train()"
   ]
  },
  {
   "cell_type": "code",
   "execution_count": 45,
   "id": "c127ffd7-ce56-4bfd-9674-f262e480ce10",
   "metadata": {},
   "outputs": [
    {
     "data": {
      "text/plain": [
       "('./t5_base_emotion_model\\\\tokenizer_config.json',\n",
       " './t5_base_emotion_model\\\\special_tokens_map.json',\n",
       " './t5_base_emotion_model\\\\spiece.model',\n",
       " './t5_base_emotion_model\\\\added_tokens.json',\n",
       " './t5_base_emotion_model\\\\tokenizer.json')"
      ]
     },
     "execution_count": 45,
     "metadata": {},
     "output_type": "execute_result"
    }
   ],
   "source": [
    "model.save_pretrained('./t5_base_emotion_model')\n",
    "tokenizer.save_pretrained('./t5_base_emotion_model')"
   ]
  },
  {
   "cell_type": "code",
   "execution_count": null,
   "id": "e34962c3-f3b5-476d-9b33-3eae057f9b54",
   "metadata": {},
   "outputs": [],
   "source": []
  }
 ],
 "metadata": {
  "kernelspec": {
   "display_name": "Python (lumina_env)",
   "language": "python",
   "name": "lumina_env"
  },
  "language_info": {
   "codemirror_mode": {
    "name": "ipython",
    "version": 3
   },
   "file_extension": ".py",
   "mimetype": "text/x-python",
   "name": "python",
   "nbconvert_exporter": "python",
   "pygments_lexer": "ipython3",
   "version": "3.9.21"
  }
 },
 "nbformat": 4,
 "nbformat_minor": 5
}
